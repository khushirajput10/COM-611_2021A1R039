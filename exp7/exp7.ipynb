{
 "cells": [
  {
   "cell_type": "markdown",
   "id": "c603bec6",
   "metadata": {},
   "source": [
    "# Exp7\n",
    "# Implement the web scraping on Amazon website or any shopping site by importing the requests and the beautiful soup."
   ]
  },
  {
   "cell_type": "raw",
   "id": "ed1d066b",
   "metadata": {},
   "source": [
    "Two python libraries are used: BeautifulSoup and requests\n",
    "\n",
    "1.BeautifulSoup is part of bs4 module. It is used for parsing HTML and XML documents. With BeautifulSoup, you can extract  data from web pages by navigating through the HTML structure and locating specific elements based on their tags,     attributes, or text content.\n",
    "2. requests is a library used for sending HTTP requests in python. It provides a simple and intutive way to interact with web pages and retrieve their content. You can send GET or POST requests to web servers and receive responses, which can then be processed or used for various purposes, such as web scraping.\n"
   ]
  },
  {
   "cell_type": "code",
   "execution_count": 35,
   "id": "a4fbf89e",
   "metadata": {},
   "outputs": [
    {
     "name": "stdout",
     "output_type": "stream",
     "text": [
      "Product Title= \n",
      "Product Price= \n",
      "Product Rating= \n",
      "Number of Product reviews= \n",
      "Availabiity= \n"
     ]
    }
   ],
   "source": [
    "from bs4 import BeautifulSoup\n",
    "import requests\n",
    "\n",
    "# Function to extract Product Title\n",
    "def get_title(soup):\n",
    "    try:\n",
    "        title= soup.find(\"span\", attrs={\"id\":\"productTitle\"})\n",
    "        title_string=title.get_text(strip=True)\n",
    "    except AttributeError:\n",
    "        title_string=\"\"\n",
    "    return title_string\n",
    "# Function to extract Product Price\n",
    "def get_price(soup):\n",
    "    try:\n",
    "        price=soup.find(\"span\",attrs={\"class\":\"a-offscreen\"})\n",
    "        if price is not None:\n",
    "            price_string=price.get_text(strip=True)\n",
    "        else:\n",
    "            price_string=\"\"\n",
    "    except AttributeError:\n",
    "        price_string=\"\"\n",
    "    return price_string\n",
    "# Function to extract Product Rating\n",
    "def get_rating(soup):\n",
    "    try:\n",
    "        rating=soup.find(\"span\",attrs={\"class\":\"a-icon-alt\"})\n",
    "        if rating is not None:\n",
    "            rating_string=rating.get_text(strip=True)\n",
    "        else:\n",
    "            rating_string=\"\"\n",
    "    except AttributeError:\n",
    "        rating_string=\"\"\n",
    "    return rating_string\n",
    "# Function to extract Number of User Reviews\n",
    "def get_review_count(soup):\n",
    "    try:\n",
    "        review_count=soup.find(\"span\",attrs={\"id\":\"acrCustomerReviewText\"})\n",
    "        if review_count is not None:\n",
    "            review_count_string=review_count.get_text(strip=True)\n",
    "        else:\n",
    "            review_count_string=\"\"\n",
    "    except AttributeError:\n",
    "        review_count_string=\"\"\n",
    "    return review_count_string\n",
    "# Function to extract Availability Status\n",
    "def get_availability(soup):\n",
    "    try:\n",
    "        availability=soup.find(\"div\",attrs={\"id\":\"availability\"})\n",
    "        if availability is not None:\n",
    "            availability_string=availability.get_text(strip=True)\n",
    "        else:\n",
    "            availability_string=\"\"\n",
    "    except AttributeError:\n",
    "        availability_string=\"\"\n",
    "    return availability_string\n",
    "\n",
    "if __name__==\"__main__\":\n",
    "    #     headers for request\n",
    "    headers={\n",
    "        \"User-Agent\":\"Mozilla/5.0 (X11; Linux x86_64) AppleWebKit/537.36 (KHTML, like Gecko) Chrome/51.0.2704.103 Safari/537.36\",\n",
    "        \"Accept-Language\":\"en-US,en;q=0.5\"\n",
    "    }\n",
    "    url=\"https://amzn.in/d/2q5X92d\"\n",
    "#   Http Request\n",
    "    webpage=requests.get(url, headers=headers)\n",
    "#     Soup Object containing all data\n",
    "    soup=BeautifulSoup(webpage.content,\"html.parser\")\n",
    "    #Function calls to display all necessary product information\n",
    "    print(\"Product Title=\",get_title(soup))\n",
    "    print(\"Product Price=\",get_price(soup))\n",
    "    print(\"Product Rating=\",get_rating(soup))\n",
    "    print(\"Number of Product reviews=\",get_review_count(soup))\n",
    "    print(\"Availabiity=\",get_availability(soup))\n",
    "\n",
    "\n",
    "    \n",
    "            "
   ]
  },
  {
   "cell_type": "code",
   "execution_count": null,
   "id": "8406bcb8",
   "metadata": {},
   "outputs": [],
   "source": []
  },
  {
   "cell_type": "code",
   "execution_count": null,
   "id": "e70772bb",
   "metadata": {},
   "outputs": [],
   "source": []
  },
  {
   "cell_type": "code",
   "execution_count": null,
   "id": "a3eafe29",
   "metadata": {},
   "outputs": [],
   "source": []
  },
  {
   "cell_type": "code",
   "execution_count": null,
   "id": "c1087703",
   "metadata": {},
   "outputs": [],
   "source": []
  },
  {
   "cell_type": "code",
   "execution_count": null,
   "id": "6d71065a",
   "metadata": {},
   "outputs": [],
   "source": []
  }
 ],
 "metadata": {
  "kernelspec": {
   "display_name": "Python 3 (ipykernel)",
   "language": "python",
   "name": "python3"
  },
  "language_info": {
   "codemirror_mode": {
    "name": "ipython",
    "version": 3
   },
   "file_extension": ".py",
   "mimetype": "text/x-python",
   "name": "python",
   "nbconvert_exporter": "python",
   "pygments_lexer": "ipython3",
   "version": "3.10.0"
  }
 },
 "nbformat": 4,
 "nbformat_minor": 5
}
