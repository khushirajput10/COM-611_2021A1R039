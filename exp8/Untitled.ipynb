{
 "cells": [
  {
   "cell_type": "markdown",
   "id": "e2dfdef4",
   "metadata": {},
   "source": [
    "# Exp8: Implement the Image processing basics: Converting Image to RGB to BGR to Grayscale, create a White/Black Color Image, how to draw shapes on image.\n"
   ]
  },
  {
   "cell_type": "code",
   "execution_count": 1,
   "id": "196a0162",
   "metadata": {},
   "outputs": [],
   "source": [
    "import cv2\n",
    "import numpy as np"
   ]
  },
  {
   "cell_type": "code",
   "execution_count": 2,
   "id": "3a21d7c7",
   "metadata": {},
   "outputs": [
    {
     "name": "stdout",
     "output_type": "stream",
     "text": [
      "Requirement already satisfied: opencv-python in d:\\python\\lib\\site-packages (4.9.0.80)\n",
      "Requirement already satisfied: numpy>=1.19.3 in d:\\python\\lib\\site-packages (from opencv-python) (1.22.3)\n",
      "Note: you may need to restart the kernel to use updated packages.\n"
     ]
    },
    {
     "name": "stderr",
     "output_type": "stream",
     "text": [
      "WARNING: You are using pip version 21.2.3; however, version 24.0 is available.\n",
      "You should consider upgrading via the 'D:\\python\\python.exe -m pip install --upgrade pip' command.\n"
     ]
    }
   ],
   "source": [
    "pip install opencv-python"
   ]
  },
  {
   "cell_type": "code",
   "execution_count": null,
   "id": "6c585762",
   "metadata": {},
   "outputs": [],
   "source": [
    "def convert_to_grayscale(image_path):\n",
    "    # Load the image\n",
    "    image= cv2.imread(image_path)\n",
    "    # Convert the image to grayscale\n",
    "    grayscale_image= cv2.cvtColor(image,cv2.COLOR_BGR2GRAY)\n",
    "    cv2.imshow(\"Original Image\", image)\n",
    "    cv2.imshow(\"Grayscale Image\", grayscale_image)\n",
    "    cv2.waitKey(0)\n",
    "    cv2.destroyAllWindows()"
   ]
  },
  {
   "cell_type": "code",
   "execution_count": null,
   "id": "babb3ebb",
   "metadata": {},
   "outputs": [],
   "source": [
    "def convert_to_bgr(image_path,output_path):\n",
    "    image=cv2.imread(image_path)\n",
    "    #Load the image\n",
    "    bgr_image=cv2.cvtColor(image, cv2.COLOR_RGB2BGR)\n",
    "    #Convert the image to BGR color space\n",
    "    cv2.imshow(\"Original Image\", image)\n",
    "    #Display the original anf BGR images\n",
    "    cv2.imshow(\"BGR Image\", bgr_image)\n",
    "    cv2.waitKey(0)\n",
    "    cv2.destroyAllWindows()\n",
    "    #Save the BGR image\n",
    "    cv2.imwrite(output_path,bgr_image)\n",
    "    print(\"BGR image saved as\", output_path)\n",
    "    "
   ]
  },
  {
   "cell_type": "markdown",
   "id": "09c63a9f",
   "metadata": {},
   "source": [
    "# In this code, the convert_bgr_to_rgb function takes an image in BGR color space(image_bgr) and converts it to RGB color space using cv2.cvtColor with the cv2.COLOR_BGR2RGB flag. It then displays both the original BGR image and the converted RGB image."
   ]
  },
  {
   "cell_type": "code",
   "execution_count": 5,
   "id": "1234c1b7",
   "metadata": {},
   "outputs": [],
   "source": [
    "def convert_bgr_to_rgb(output_path):\n",
    "    image_bgr=cv2.imread(output_path)\n",
    "    image_rgb=cv2.cvtColor(image_bgr, cv2.COLOR_BGR2RGB)\n",
    "    cv2.imshow(\"BGR Image\", image_bgr)\n",
    "    cv2.imshow(\"RGB Image\", image_rgb)\n",
    "    cv2.waitKey(0)\n",
    "    cv2.destroyAllWindows()\n",
    "    "
   ]
  },
  {
   "cell_type": "code",
   "execution_count": 6,
   "id": "2de21fd1",
   "metadata": {},
   "outputs": [],
   "source": [
    "# main program\n",
    "image_path=\"C:\\\\Users\\\\akhil\\\\OneDrive\\\\Desktop\\\\images.jpeg\"\n",
    "output_path=\"C:\\\\Users\\\\akhil\\\\OneDrive\\\\Desktop\\\\imagess.jpeg\""
   ]
  },
  {
   "cell_type": "code",
   "execution_count": 7,
   "id": "26c0b64a",
   "metadata": {},
   "outputs": [],
   "source": [
    "convert_to_grayscale(image_path)"
   ]
  },
  {
   "cell_type": "code",
   "execution_count": 35,
   "id": "f0261dc9",
   "metadata": {},
   "outputs": [
    {
     "name": "stdout",
     "output_type": "stream",
     "text": [
      "BGR image saved as C:\\Users\\akhil\\OneDrive\\Desktop\\imagess.jpeg\n"
     ]
    }
   ],
   "source": [
    "convert_to_bgr(image_path,output_path)"
   ]
  },
  {
   "cell_type": "code",
   "execution_count": 36,
   "id": "7d8d8ed1",
   "metadata": {},
   "outputs": [],
   "source": [
    "convert_bgr_to_rgb(output_path)"
   ]
  },
  {
   "cell_type": "code",
   "execution_count": 9,
   "id": "dae9162d",
   "metadata": {},
   "outputs": [],
   "source": [
    "def create_white_image(width,height):\n",
    "    white_image=np.ones((height,width,3),dtype=np.uint8)*255\n",
    "    cv2.imshow(\"White Image\", white_image)\n",
    "    cv2.waitKey(0)\n",
    "    cv2.destroyAllWindows()"
   ]
  },
  {
   "cell_type": "code",
   "execution_count": 10,
   "id": "a8b6d0ac",
   "metadata": {},
   "outputs": [],
   "source": [
    "def create_black_image(width,height):\n",
    "    black_image=np.zeros((height,width,3),dtype=np.uint8)\n",
    "    cv2.imshow(\"Black Image\", black_image)\n",
    "    cv2.waitKey(0)\n",
    "    cv2.destroyAllWindows()"
   ]
  },
  {
   "cell_type": "markdown",
   "id": "598d82c6",
   "metadata": {},
   "source": [
    "# np .ones((height,width,3),dtype=np.uint8) creates a NumPy array of shape (height,width,3) with all elements initialized to 1. The (height,width,3) shape represents an image with height number of rows, width number of columns, and 3 channels (Red,Green,Blue)\n",
    "  . 255 multiplies each element in the array by 255. This is done to set all the pixel values to their maximum value, resulting in a white image since RGB values of (255,255,255) represent white. The resulting array is assigned tp he variable white_image, representing a white color image."
   ]
  },
  {
   "cell_type": "markdown",
   "id": "0c44050a",
   "metadata": {},
   "source": [
    "# np.zeros((height,width,3),dtype=np.uint8) created a NumPy array of shape (height,width,3) with all elements initialized to 0. Similar to the previous line, the shape (height,width,3) represents an image with height rows,width columns,and 3 channels(RGB)\n",
    ". The resulting array is assigned to the variable_black_image,represnting a black color image."
   ]
  },
  {
   "cell_type": "code",
   "execution_count": 11,
   "id": "e33c21ef",
   "metadata": {},
   "outputs": [],
   "source": [
    "def draw_shapes_on_image(image_path):\n",
    "    #load the image\n",
    "    image=cv2.imread(image_path)\n",
    "    \n",
    "    #Draw a rectangle on the image\n",
    "    cv2.rectangle(image,(50,50),(200,200),(0,255,0),2)\n",
    "    \n",
    "    #Draw a circle on the image\n",
    "    cv2.circle(image,(300,150),100,(0,0,255),2)\n",
    "    \n",
    "    #Draw a line on the image\n",
    "    cv2.line(image,(400,50),(400,250),(255,0,0),2)\n",
    "    \n",
    "    #Displays the image with shapes\n",
    "    cv2.imshow(\"Image with shapes\", image)\n",
    "    cv2.waitKey(0)\n",
    "    cv2.destroyAllWindows()"
   ]
  },
  {
   "cell_type": "code",
   "execution_count": 12,
   "id": "294b83b9",
   "metadata": {},
   "outputs": [],
   "source": [
    "# Main program \n",
    "width,height=800,600\n"
   ]
  },
  {
   "cell_type": "code",
   "execution_count": 13,
   "id": "40a7b82a",
   "metadata": {},
   "outputs": [],
   "source": [
    "# Create a white image\n",
    "create_white_image(width,height)"
   ]
  },
  {
   "cell_type": "code",
   "execution_count": 14,
   "id": "8d266caa",
   "metadata": {},
   "outputs": [],
   "source": [
    "# Create a black image\n",
    "create_black_image(width,height)"
   ]
  },
  {
   "cell_type": "code",
   "execution_count": 15,
   "id": "8ab3178c",
   "metadata": {},
   "outputs": [],
   "source": [
    "# Draw shapes on an image\n",
    "image_path=\"C:\\\\Users\\\\akhil\\\\OneDrive\\\\Desktop\\\\images.jpeg\"\n",
    "draw_shapes_on_image(image_path)"
   ]
  },
  {
   "cell_type": "code",
   "execution_count": null,
   "id": "bf5c0ec7",
   "metadata": {},
   "outputs": [],
   "source": []
  }
 ],
 "metadata": {
  "kernelspec": {
   "display_name": "Python 3 (ipykernel)",
   "language": "python",
   "name": "python3"
  },
  "language_info": {
   "codemirror_mode": {
    "name": "ipython",
    "version": 3
   },
   "file_extension": ".py",
   "mimetype": "text/x-python",
   "name": "python",
   "nbconvert_exporter": "python",
   "pygments_lexer": "ipython3",
   "version": "3.10.0"
  }
 },
 "nbformat": 4,
 "nbformat_minor": 5
}
